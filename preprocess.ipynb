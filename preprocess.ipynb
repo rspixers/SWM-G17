{
 "cells": [
  {
   "cell_type": "code",
   "execution_count": 1,
   "metadata": {
    "collapsed": true
   },
   "outputs": [
    {
     "name": "stderr",
     "output_type": "stream",
     "text": [
      "[nltk_data] Downloading package punkt to\n",
      "[nltk_data]     C:\\Users\\user\\AppData\\Roaming\\nltk_data...\n",
      "[nltk_data]   Package punkt is already up-to-date!\n"
     ]
    }
   ],
   "source": [
    "import os\n",
    "import glob\n",
    "import json\n",
    "import pytz\n",
    "import nltk\n",
    "nltk.download('punkt')\n",
    "import numpy as np\n",
    "import pandas as pd\n",
    "import dateutil.parser\n",
    "# from textblob import TextBlob\n",
    "from datetime import datetime, timedelta\n",
    "from nltk.tokenize import sent_tokenize\n",
    "import re\n"
   ]
  },
  {
   "cell_type": "code",
   "execution_count": 2,
   "outputs": [],
   "source": [
    "times = []\n",
    "text = []\n",
    "news_file_loc = []\n",
    "sites = []\n",
    "organizations = []\n",
    "titles = []\n",
    "published_times = []\n",
    "time_zone = pytz.timezone('GMT')\n",
    "news_path = r\"C:/Users/user/PycharmProjects/SWM Project/data/News/\"\n",
    "json_files = glob.glob(news_path + '*/*.json')\n",
    "# print(len(json_files))"
   ],
   "metadata": {
    "collapsed": false,
    "pycharm": {
     "name": "#%%\n"
    }
   }
  },
  {
   "cell_type": "code",
   "execution_count": 3,
   "outputs": [],
   "source": [
    "for news in json_files:\n",
    "    with open(news, 'r',encoding='utf-8') as f:\n",
    "        record = json.load(f)\n",
    "        local_time, offset = record[\"published\"].split(\"+\")\n",
    "        local_datetime = datetime.strptime(local_time, \"%Y-%m-%dT%H:%M:%S.%f\")\n",
    "        offset_datetime = datetime.strptime(offset, \"%H:%M\")\n",
    "        published_times.append(local_datetime - timedelta(hours=offset_datetime.hour, minutes=offset_datetime.minute))\n",
    "        iso_time = dateutil.parser.isoparse(record['published']).astimezone(time_zone)\n",
    "        times.append(iso_time)\n",
    "        news_file_loc.append(news)\n",
    "        text.append(record['text'])\n",
    "        sites.append(record['thread']['site'])\n",
    "        titles.append(record['title'])"
   ],
   "metadata": {
    "collapsed": false,
    "pycharm": {
     "name": "#%%\n"
    }
   }
  },
  {
   "cell_type": "code",
   "execution_count": 4,
   "outputs": [],
   "source": [
    "news_df = pd.DataFrame({'timestamp': times, 'published': published_times, 'text': text, 'site': sites, 'news_file_loc': news_file_loc })"
   ],
   "metadata": {
    "collapsed": false,
    "pycharm": {
     "name": "#%%\n"
    }
   }
  },
  {
   "cell_type": "code",
   "execution_count": 6,
   "outputs": [
    {
     "data": {
      "text/plain": "                  timestamp           published  \\\n0 2018-01-03 20:33:00+00:00 2018-01-03 20:33:00   \n1 2018-01-01 12:36:00+00:00 2018-01-01 12:36:00   \n2 2018-01-01 08:47:00+00:00 2018-01-01 08:47:00   \n3 2018-01-01 12:08:00+00:00 2018-01-01 12:08:00   \n4 2018-01-01 20:02:00+00:00 2018-01-01 20:02:00   \n\n                                                text                     site  \\\n0  Annual RPA meeting emphasizes physician leader...       nephrologynews.com   \n1  Apple drops the price on replacement iPhone ba...  thelincolnianonline.com   \n2  There is a 40% chance Apple will acquire Netfl...                yahoo.com   \n3  Posted by Nicole Wilson on Jan 1st, 2018 // No...        ledgergazette.com   \n4  2 Warren Buffett Stocks to Consider Buying Now...                 fool.com   \n\n                                       news_file_loc  \n0  C:/Users/user/PycharmProjects/SWM Project/data...  \n1  C:/Users/user/PycharmProjects/SWM Project/data...  \n2  C:/Users/user/PycharmProjects/SWM Project/data...  \n3  C:/Users/user/PycharmProjects/SWM Project/data...  \n4  C:/Users/user/PycharmProjects/SWM Project/data...  ",
      "text/html": "<div>\n<style scoped>\n    .dataframe tbody tr th:only-of-type {\n        vertical-align: middle;\n    }\n\n    .dataframe tbody tr th {\n        vertical-align: top;\n    }\n\n    .dataframe thead th {\n        text-align: right;\n    }\n</style>\n<table border=\"1\" class=\"dataframe\">\n  <thead>\n    <tr style=\"text-align: right;\">\n      <th></th>\n      <th>timestamp</th>\n      <th>published</th>\n      <th>text</th>\n      <th>site</th>\n      <th>news_file_loc</th>\n    </tr>\n  </thead>\n  <tbody>\n    <tr>\n      <th>0</th>\n      <td>2018-01-03 20:33:00+00:00</td>\n      <td>2018-01-03 20:33:00</td>\n      <td>Annual RPA meeting emphasizes physician leader...</td>\n      <td>nephrologynews.com</td>\n      <td>C:/Users/user/PycharmProjects/SWM Project/data...</td>\n    </tr>\n    <tr>\n      <th>1</th>\n      <td>2018-01-01 12:36:00+00:00</td>\n      <td>2018-01-01 12:36:00</td>\n      <td>Apple drops the price on replacement iPhone ba...</td>\n      <td>thelincolnianonline.com</td>\n      <td>C:/Users/user/PycharmProjects/SWM Project/data...</td>\n    </tr>\n    <tr>\n      <th>2</th>\n      <td>2018-01-01 08:47:00+00:00</td>\n      <td>2018-01-01 08:47:00</td>\n      <td>There is a 40% chance Apple will acquire Netfl...</td>\n      <td>yahoo.com</td>\n      <td>C:/Users/user/PycharmProjects/SWM Project/data...</td>\n    </tr>\n    <tr>\n      <th>3</th>\n      <td>2018-01-01 12:08:00+00:00</td>\n      <td>2018-01-01 12:08:00</td>\n      <td>Posted by Nicole Wilson on Jan 1st, 2018 // No...</td>\n      <td>ledgergazette.com</td>\n      <td>C:/Users/user/PycharmProjects/SWM Project/data...</td>\n    </tr>\n    <tr>\n      <th>4</th>\n      <td>2018-01-01 20:02:00+00:00</td>\n      <td>2018-01-01 20:02:00</td>\n      <td>2 Warren Buffett Stocks to Consider Buying Now...</td>\n      <td>fool.com</td>\n      <td>C:/Users/user/PycharmProjects/SWM Project/data...</td>\n    </tr>\n  </tbody>\n</table>\n</div>"
     },
     "execution_count": 6,
     "metadata": {},
     "output_type": "execute_result"
    }
   ],
   "source": [
    "# news_df.head()"
   ],
   "metadata": {
    "collapsed": false,
    "pycharm": {
     "name": "#%%\n"
    }
   }
  },
  {
   "cell_type": "code",
   "execution_count": 5,
   "outputs": [],
   "source": [
    "def filter_only_mention(text, stock, company):\n",
    "    filterlist = []\n",
    "    sentences = sent_tokenize(text)\n",
    "    for sent in sentences:\n",
    "        sent = sent.lower()\n",
    "        sent = sent.replace('\\n', ' ')\n",
    "        sent = re.sub(' +', ' ', sent)\n",
    "        sent = re.sub('\\.+', '.', sent)\n",
    "        if (stock in sent) or (company in sent):\n",
    "            filterlist.append(sent)\n",
    "    return filterlist\n"
   ],
   "metadata": {
    "collapsed": false,
    "pycharm": {
     "name": "#%%\n"
    }
   }
  },
  {
   "cell_type": "code",
   "execution_count": 6,
   "outputs": [],
   "source": [
    "amazon_df = pd.DataFrame()\n",
    "apple_df = pd.DataFrame()\n",
    "\n",
    "amazon_df = news_df.copy(deep=True)\n",
    "apple_df = news_df.copy(deep=True)"
   ],
   "metadata": {
    "collapsed": false,
    "pycharm": {
     "name": "#%%\n"
    }
   }
  },
  {
   "cell_type": "code",
   "execution_count": 7,
   "outputs": [],
   "source": [
    "amazon_df['filteredtext_amzn'] = amazon_df['text'].apply(filter_only_mention, args=('amzn', 'amazon'))"
   ],
   "metadata": {
    "collapsed": false,
    "pycharm": {
     "name": "#%%\n"
    }
   }
  },
  {
   "cell_type": "code",
   "execution_count": 8,
   "outputs": [],
   "source": [
    "apple_df['filteredtext_apple'] = apple_df['text'].apply(filter_only_mention, args=('aapl', 'apple'))"
   ],
   "metadata": {
    "collapsed": false,
    "pycharm": {
     "name": "#%%\n"
    }
   }
  },
  {
   "cell_type": "code",
   "execution_count": 10,
   "outputs": [
    {
     "name": "stdout",
     "output_type": "stream",
     "text": [
      "<class 'pandas.core.frame.DataFrame'>\n",
      "RangeIndex: 78055 entries, 0 to 78054\n",
      "Data columns (total 6 columns):\n",
      " #   Column             Non-Null Count  Dtype              \n",
      "---  ------             --------------  -----              \n",
      " 0   timestamp          78055 non-null  datetime64[ns, GMT]\n",
      " 1   published          78055 non-null  datetime64[ns]     \n",
      " 2   text               78055 non-null  object             \n",
      " 3   site               78055 non-null  object             \n",
      " 4   news_file_loc      78055 non-null  object             \n",
      " 5   filteredtext_amzn  78055 non-null  object             \n",
      "dtypes: datetime64[ns, GMT](1), datetime64[ns](1), object(4)\n",
      "memory usage: 3.6+ MB\n"
     ]
    }
   ],
   "source": [
    "# amazon_df.info()\n",
    "# amazon_df.head()"
   ],
   "metadata": {
    "collapsed": false,
    "pycharm": {
     "name": "#%%\n"
    }
   }
  },
  {
   "cell_type": "code",
   "execution_count": 9,
   "outputs": [],
   "source": [
    "#Just for safety :P\n",
    "amazon5_df = amazon_df.copy(deep=True)\n",
    "amazon15_df = amazon_df.copy(deep=True)\n",
    "amazon30_df = amazon_df.copy(deep=True)\n",
    "amazon60_df = amazon_df.copy(deep=True)\n",
    "amazon240_df = amazon_df.copy(deep=True)\n",
    "amazon1440_df = amazon_df.copy(deep=True)\n",
    "\n",
    "\n",
    "apple5_df = apple_df.copy(deep=True)\n",
    "apple15_df = apple_df.copy(deep=True)\n",
    "apple30_df = apple_df.copy(deep=True)\n",
    "apple60_df = apple_df.copy(deep=True)\n",
    "apple240_df = apple_df.copy(deep=True)\n",
    "apple1440_df = apple_df.copy(deep=True)"
   ],
   "metadata": {
    "collapsed": false,
    "pycharm": {
     "name": "#%%\n"
    }
   }
  },
  {
   "cell_type": "code",
   "execution_count": 10,
   "outputs": [],
   "source": [
    "amazon5_df[\"rounded_time\"] = (amazon5_df[\"published\"]).dt.round(\"5min\")\n",
    "amazon15_df[\"rounded_time\"] = (amazon15_df[\"published\"]).dt.round(\"15min\")\n",
    "amazon30_df[\"rounded_time\"] = (amazon30_df[\"published\"]).dt.round(\"30min\")\n",
    "amazon60_df[\"rounded_time\"] = (amazon60_df[\"published\"]).dt.round(\"1H\")\n",
    "amazon240_df[\"rounded_time\"] = (amazon240_df[\"published\"]).dt.round(\"4H\")\n",
    "amazon1440_df[\"rounded_time\"] = (amazon1440_df[\"published\"]).dt.round(\"1D\")\n",
    "\n",
    "apple5_df[\"rounded_time\"] = (apple5_df[\"published\"]).dt.round(\"5min\")\n",
    "apple15_df[\"rounded_time\"] = (apple15_df[\"published\"]).dt.round(\"15min\")\n",
    "apple30_df[\"rounded_time\"] = (apple30_df[\"published\"]).dt.round(\"30min\")\n",
    "apple60_df[\"rounded_time\"] = (apple60_df[\"published\"]).dt.round(\"1H\")\n",
    "apple240_df[\"rounded_time\"] = (apple240_df[\"published\"]).dt.round(\"4H\")\n",
    "apple1440_df[\"rounded_time\"] = (apple1440_df[\"published\"]).dt.round(\"1D\")"
   ],
   "metadata": {
    "collapsed": false,
    "pycharm": {
     "name": "#%%\n"
    }
   }
  },
  {
   "cell_type": "code",
   "execution_count": 11,
   "outputs": [],
   "source": [
    "CHARTS_dir = r\"C:/Users/user/PycharmProjects/SWM Project/data/\"\n",
    "def join_CHARTS_data_and_GT(source_df, interval, company):\n",
    "    CHARTS_df = pd.read_csv(\n",
    "        os.path.join(CHARTS_dir, \"CHARTS/\" + company + str(interval) + \".csv\"),\n",
    "        header=None,\n",
    "    )\n",
    "    CHARTS_df.columns = [\n",
    "        \"year.month.day\",\n",
    "        \"24hr\",\n",
    "        \"Open\",\n",
    "        \"Close\",\n",
    "        \"High\",\n",
    "        \"Low\",\n",
    "        \"Volume\",\n",
    "    ]\n",
    "    CHARTS_df[\"temp_timestamp\"] = pd.to_datetime(\n",
    "        CHARTS_df[\"year.month.day\"].astype(str) + \"T\" + CHARTS_df[\"24hr\"],\n",
    "        format=\"%Y.%m.%dT%H:%M\",\n",
    "    )\n",
    "    right_on = \"rounded_time\"\n",
    "    if(interval == 60):\n",
    "        CHARTS_df[\"timestamp\"] = CHARTS_df[\"temp_timestamp\"].dt.round(\"1H\")\n",
    "    elif(interval == 240):\n",
    "        CHARTS_df[\"timestamp\"] = CHARTS_df[\"temp_timestamp\"].dt.round(\"4H\")\n",
    "    else:\n",
    "        CHARTS_df[\"timestamp\"] = CHARTS_df[\"temp_timestamp\"]\n",
    "\n",
    "    joined_df = pd.merge(\n",
    "            CHARTS_df, source_df, left_on=\"timestamp\", right_on=right_on, how=\"left\",suffixes=('', '_y')\n",
    "        )\n",
    "    joined_df.drop(joined_df.filter(regex='_y$').columns.tolist(),axis=1, inplace=True)\n",
    "    joined_df.drop([\"temp_timestamp\"], axis=1, inplace=True)\n",
    "\n",
    "    #Adding Ground Truth\n",
    "    joined_df['label'] = (joined_df['Close'] - joined_df['Open'].shift(1)).apply(lambda x: -1 if x<0 else 1)\n",
    "\n",
    "\n",
    "    ########### READ AFTER TESTING\n",
    "    # joined_df.drop([\"entities\"], axis=1, inplace=True)\n",
    "    return joined_df"
   ],
   "metadata": {
    "collapsed": false,
    "pycharm": {
     "name": "#%%\n"
    }
   }
  },
  {
   "cell_type": "code",
   "execution_count": 12,
   "outputs": [],
   "source": [
    "amazon5_df = join_CHARTS_data_and_GT(amazon5_df, 5, \"AMAZON\")\n",
    "amazon15_df = join_CHARTS_data_and_GT(amazon15_df, 15, \"AMAZON\")\n",
    "amazon30_df = join_CHARTS_data_and_GT(amazon30_df, 30, \"AMAZON\")\n",
    "amazon60_df = join_CHARTS_data_and_GT(amazon60_df, 60, \"AMAZON\")\n",
    "amazon240_df = join_CHARTS_data_and_GT(amazon240_df, 240, \"AMAZON\")\n",
    "amazon1440_df = join_CHARTS_data_and_GT(amazon1440_df, 1440, \"AMAZON\")\n",
    "\n",
    "apple5_df = join_CHARTS_data_and_GT(apple5_df, 5, \"APPLE\")\n",
    "apple15_df = join_CHARTS_data_and_GT(apple15_df, 15, \"APPLE\")\n",
    "apple30_df = join_CHARTS_data_and_GT(apple30_df, 30, \"APPLE\")\n",
    "apple60_df = join_CHARTS_data_and_GT(apple60_df, 60, \"APPLE\")\n",
    "apple240_df = join_CHARTS_data_and_GT(apple240_df, 240, \"APPLE\")\n",
    "apple1440_df = join_CHARTS_data_and_GT(apple1440_df, 1440, \"APPLE\")"
   ],
   "metadata": {
    "collapsed": false,
    "pycharm": {
     "name": "#%%\n"
    }
   }
  },
  {
   "cell_type": "code",
   "execution_count": 13,
   "outputs": [],
   "source": [
    "amazon5_df.dropna(inplace=True)\n",
    "amazon15_df.dropna(inplace=True)\n",
    "amazon30_df.dropna(inplace=True)\n",
    "amazon60_df.dropna(inplace=True)\n",
    "amazon240_df.dropna(inplace=True)\n",
    "amazon1440_df.dropna(inplace=True)\n",
    "\n",
    "apple5_df.dropna(inplace=True)\n",
    "apple15_df.dropna(inplace=True)\n",
    "apple30_df.dropna(inplace=True)\n",
    "apple60_df.dropna(inplace=True)\n",
    "apple240_df.dropna(inplace=True)\n",
    "apple1440_df.dropna(inplace=True)"
   ],
   "metadata": {
    "collapsed": false,
    "pycharm": {
     "name": "#%%\n"
    }
   }
  },
  {
   "cell_type": "code",
   "execution_count": 14,
   "outputs": [],
   "source": [
    "\n",
    "amazon5_df.to_csv(\"data/amazon5.csv\", encoding=\"utf-8\")\n",
    "amazon15_df.to_csv(\"data/amazon15.csv\", encoding=\"utf-8\")\n",
    "amazon30_df.to_csv(\"data/amazon30.csv\", encoding=\"utf-8\")\n",
    "amazon60_df.to_csv(\"data/amazon60.csv\", encoding=\"utf-8\")\n",
    "amazon240_df.to_csv(\"data/amazon240.csv\", encoding=\"utf-8\")\n",
    "amazon1440_df.to_csv(\"data/amazon1440.csv\", encoding=\"utf-8\")\n",
    "\n",
    "apple5_df.to_csv(\"data/apple5.csv\", encoding=\"utf-8\")\n",
    "apple15_df.to_csv(\"data/apple15.csv\", encoding=\"utf-8\")\n",
    "apple30_df.to_csv(\"data/apple30.csv\", encoding=\"utf-8\")\n",
    "apple60_df.to_csv(\"data/apple60.csv\", encoding=\"utf-8\")\n",
    "apple240_df.to_csv(\"data/apple240.csv\", encoding=\"utf-8\")\n",
    "apple1440_df.to_csv(\"data/apple1440.csv\", encoding=\"utf-8\")"
   ],
   "metadata": {
    "collapsed": false,
    "pycharm": {
     "name": "#%%\n"
    }
   }
  },
  {
   "cell_type": "code",
   "execution_count": 66,
   "outputs": [],
   "source": [],
   "metadata": {
    "collapsed": false,
    "pycharm": {
     "name": "#%%\n"
    }
   }
  }
 ],
 "metadata": {
  "kernelspec": {
   "display_name": "Python 3",
   "language": "python",
   "name": "python3"
  },
  "language_info": {
   "codemirror_mode": {
    "name": "ipython",
    "version": 2
   },
   "file_extension": ".py",
   "mimetype": "text/x-python",
   "name": "python",
   "nbconvert_exporter": "python",
   "pygments_lexer": "ipython2",
   "version": "2.7.6"
  }
 },
 "nbformat": 4,
 "nbformat_minor": 0
}