{
 "cells": [
  {
   "cell_type": "code",
   "execution_count": 1,
   "metadata": {},
   "outputs": [
    {
     "name": "stderr",
     "output_type": "stream",
     "text": [
      "[nltk_data] Downloading package words to\n",
      "[nltk_data]     C:\\Users\\user\\AppData\\Roaming\\nltk_data...\n",
      "[nltk_data]   Package words is already up-to-date!\n",
      "[nltk_data] Downloading package brown to\n",
      "[nltk_data]     C:\\Users\\user\\AppData\\Roaming\\nltk_data...\n",
      "[nltk_data]   Package brown is already up-to-date!\n",
      "[nltk_data] Downloading package punkt to\n",
      "[nltk_data]     C:\\Users\\user\\AppData\\Roaming\\nltk_data...\n",
      "[nltk_data]   Package punkt is already up-to-date!\n"
     ]
    },
    {
     "name": "stdout",
     "output_type": "stream",
     "text": [
      "78055\n"
     ]
    }
   ],
   "source": [
    "import os\n",
    "import glob\n",
    "import json\n",
    "import pytz\n",
    "import nltk\n",
    "\n",
    "nltk.download(\"words\")\n",
    "nltk.download(\"brown\")\n",
    "nltk.download(\"punkt\")\n",
    "import numpy as np\n",
    "import pandas as pd\n",
    "import dateutil.parser\n",
    "\n",
    "# from textblob import TextBlob\n",
    "from datetime import datetime, timedelta\n",
    "from nltk.tokenize import word_tokenize\n",
    "\n",
    "import re\n",
    "import nltk.data\n",
    "\n",
    "from nltk.stem import PorterStemmer\n",
    "\n",
    "import time\n",
    "import string\n",
    "\n",
    "import en_core_web_lg\n",
    "\n",
    "\n",
    "# start = time.time()\n",
    "\n",
    "global words\n",
    "words = set(nltk.corpus.brown.words())\n",
    "words.add(\"aapl\")\n",
    "words.add(\"amzn\")\n",
    "words.add(\"amazon\")\n",
    "times = []\n",
    "text = []\n",
    "news_file_loc = []\n",
    "sites = []\n",
    "organizations = []\n",
    "titles = []\n",
    "published_times = []\n",
    "time_zone = pytz.timezone(\"GMT\")\n",
    "news_path = \"./data/News/\"\n",
    "json_files = glob.glob(news_path + \"*/*.json\")\n",
    "print(len(json_files))"
   ]
  },
  {
   "cell_type": "code",
   "execution_count": 2,
   "outputs": [],
   "source": [
    "for news in json_files:\n",
    "    with open(news, \"r\", encoding=\"utf-8\") as f:\n",
    "        record = json.load(f)\n",
    "        local_time, offset = record[\"published\"].split(\"+\")\n",
    "        local_datetime = datetime.strptime(local_time, \"%Y-%m-%dT%H:%M:%S.%f\")\n",
    "        offset_datetime = datetime.strptime(offset, \"%H:%M\")\n",
    "        published_times.append(\n",
    "            local_datetime\n",
    "            - timedelta(hours=offset_datetime.hour, minutes=offset_datetime.minute)\n",
    "        )\n",
    "        iso_time = dateutil.parser.isoparse(record[\"published\"]).astimezone(time_zone)\n",
    "        times.append(iso_time)\n",
    "        news_file_loc.append(news)\n",
    "        text.append(record[\"text\"])\n",
    "        sites.append(record[\"thread\"][\"site\"])\n",
    "        titles.append(record[\"title\"])\n",
    "\n",
    "news_df = pd.DataFrame(\n",
    "    {\n",
    "        \"timestamp\": times,\n",
    "        \"published\": published_times,\n",
    "        \"text\": text,\n",
    "        \"site\": sites,\n",
    "        \"news_file_loc\": news_file_loc,\n",
    "    },\n",
    ")"
   ],
   "metadata": {
    "collapsed": false,
    "pycharm": {
     "name": "#%%\n"
    }
   }
  },
  {
   "cell_type": "code",
   "execution_count": 3,
   "outputs": [],
   "source": [
    "tokenizer = nltk.data.load(\"tokenizers/punkt/english.pickle\")\n",
    "\n",
    "nlp = en_core_web_lg.load()\n",
    "stopwords = nlp.Defaults.stop_words"
   ],
   "metadata": {
    "collapsed": false,
    "pycharm": {
     "name": "#%%\n"
    }
   }
  },
  {
   "cell_type": "code",
   "execution_count": 4,
   "outputs": [],
   "source": [
    "def filter_only_mention(text, stock, company):\n",
    "    filterlist = []\n",
    "    sentences = tokenizer.tokenize(text)\n",
    "    if text.startswith(\"Official Notice Nr\"):\n",
    "        return None\n",
    "    for sent in sentences:\n",
    "        sent = sent.lower()\n",
    "        sent = sent.replace(\"\\n\", \" \")\n",
    "        sent = re.sub(r\"[^A-Za-z \\. \\:]+\", \"\", sent)\n",
    "        #         sent = re.sub(' +', ' ', sent)\n",
    "        #         sent = re.sub('\\.+', '.', sent)\n",
    "        if (stock in sent) or (company in sent):\n",
    "            filterlist.append(sent)\n",
    "    if len(filterlist) == 0:\n",
    "        return None\n",
    "    filtered_text = \" \".join(filterlist)\n",
    "    return filtered_text"
   ],
   "metadata": {
    "collapsed": false,
    "pycharm": {
     "name": "#%%\n"
    }
   }
  },
  {
   "cell_type": "code",
   "execution_count": 5,
   "outputs": [],
   "source": [
    "def filterStopwords(text):\n",
    "    return \" \".join([w for w in text.split() if w not in stopwords])\n",
    "\n",
    "\n",
    "def lemmatize(text):\n",
    "    return \" \".join([lemma.lemma_ if lemma.lemma_ else text for lemma in nlp(text)])\n",
    "\n",
    "\n",
    "def filter_only_language(mention_filtered_text):\n",
    "    mention_filtered_text = mention_filtered_text.translate(\n",
    "        str.maketrans(\"\", \"\", string.punctuation)\n",
    "    )\n",
    "    # mention_filtered_text = mention_filtered_text.translate(\n",
    "    #     str.maketrans(\"\", \"\", string.digits)\n",
    "    # )\n",
    "    mention_filtered_list = word_tokenize(str(mention_filtered_text))\n",
    "    global words\n",
    "    preparse_length = float(len(mention_filtered_list))\n",
    "    if preparse_length:\n",
    "        parsed_filter_list = [w for w in mention_filtered_list if w in words]\n",
    "        parsed_length = float(len(parsed_filter_list))\n",
    "        # 80%, min=5 -> ~1300 records for amazon5_df : 400s\n",
    "        # 50%, min=5 -> ~4800 records ...            : 900s\n",
    "        # 50%, min=10 -> ~4300 records ...           : 900s\n",
    "        # 25%, min=10 -> ~4500 records ...           : 950s\n",
    "        if parsed_length / preparse_length < 0.5 or parsed_length < 10:\n",
    "            mention_filtered_text = None\n",
    "        else:\n",
    "            mention_filtered_text = \" \".join(parsed_filter_list)\n",
    "    else:\n",
    "        mention_filtered_text = None\n",
    "    return mention_filtered_text"
   ],
   "metadata": {
    "collapsed": false,
    "pycharm": {
     "name": "#%%\n"
    }
   }
  },
  {
   "cell_type": "code",
   "execution_count": 6,
   "outputs": [
    {
     "name": "stdout",
     "output_type": "stream",
     "text": [
      "78055\n",
      "76023\n"
     ]
    }
   ],
   "source": [
    "print(len(news_df))\n",
    "news_df.drop_duplicates(subset=[\"timestamp\", \"published\", \"text\", \"site\"], inplace=True)\n",
    "print(len(news_df))\n",
    "news_df.to_csv(\"data/news_df.csv\", encoding=\"utf-8\", index=False)"
   ],
   "metadata": {
    "collapsed": false,
    "pycharm": {
     "name": "#%%\n"
    }
   }
  },
  {
   "cell_type": "code",
   "execution_count": 7,
   "outputs": [],
   "source": [
    "amazon_df = news_df.copy(deep=True)\n",
    "apple_df = news_df.copy(deep=True)"
   ],
   "metadata": {
    "collapsed": false,
    "pycharm": {
     "name": "#%%\n"
    }
   }
  },
  {
   "cell_type": "code",
   "execution_count": 8,
   "outputs": [
    {
     "name": "stdout",
     "output_type": "stream",
     "text": [
      "before last drop 14701\n",
      "after last drop 14701\n"
     ]
    }
   ],
   "source": [
    "amazon_df[\"filteredtext\"] = amazon_df[\"text\"].apply(\n",
    "    filter_only_mention, args=(\"amzn\", \"amazon\")\n",
    ")\n",
    "amazon_df.dropna(subset=[\"filteredtext\"], inplace=True)\n",
    "amazon_df[\"filteredtext\"] = amazon_df[\"filteredtext\"].apply(filterStopwords)\n",
    "amazon_df.dropna(subset=[\"filteredtext\"], inplace=True)\n",
    "amazon_df[\"filteredtext\"] = amazon_df[\"filteredtext\"].apply(filter_only_language)\n",
    "amazon_df.dropna(subset=[\"filteredtext\"], inplace=True)\n",
    "amazon_df[\"filteredtext\"] = amazon_df[\"filteredtext\"].apply(lemmatize)\n",
    "print(\"before last drop\", len(amazon_df))\n",
    "amazon_df.dropna(subset=[\"filteredtext\"], inplace=True)\n",
    "print(\"after last drop\", len(amazon_df))"
   ],
   "metadata": {
    "collapsed": false,
    "pycharm": {
     "name": "#%%\n"
    }
   }
  },
  {
   "cell_type": "code",
   "execution_count": 9,
   "outputs": [],
   "source": [
    "apple_df[\"filteredtext\"] = apple_df[\"text\"].apply(\n",
    "    filter_only_mention, args=(\"aapl\", \"apple\")\n",
    ")\n",
    "apple_df.dropna(subset=[\"filteredtext\"], inplace=True)\n",
    "apple_df[\"filteredtext\"] = apple_df[\"filteredtext\"].apply(filterStopwords)\n",
    "apple_df.dropna(subset=[\"filteredtext\"], inplace=True)\n",
    "apple_df[\"filteredtext\"] = apple_df[\"filteredtext\"].apply(filter_only_language)\n",
    "apple_df.dropna(subset=[\"filteredtext\"], inplace=True)\n",
    "apple_df[\"filteredtext\"] = apple_df[\"filteredtext\"].apply(lemmatize)\n",
    "apple_df.dropna(subset=[\"filteredtext\"], inplace=True)"
   ],
   "metadata": {
    "collapsed": false,
    "pycharm": {
     "name": "#%%\n"
    }
   }
  },
  {
   "cell_type": "code",
   "execution_count": 10,
   "outputs": [],
   "source": [
    "# Just for safety :P\n",
    "amazon5_df = amazon_df.copy(deep=True)\n",
    "amazon15_df = amazon_df.copy(deep=True)\n",
    "amazon30_df = amazon_df.copy(deep=True)\n",
    "amazon60_df = amazon_df.copy(deep=True)\n",
    "amazon240_df = amazon_df.copy(deep=True)\n",
    "amazon1440_df = amazon_df.copy(deep=True)"
   ],
   "metadata": {
    "collapsed": false,
    "pycharm": {
     "name": "#%%\n"
    }
   }
  },
  {
   "cell_type": "code",
   "execution_count": 11,
   "outputs": [],
   "source": [
    "apple5_df = apple_df.copy(deep=True)\n",
    "apple15_df = apple_df.copy(deep=True)\n",
    "apple30_df = apple_df.copy(deep=True)\n",
    "apple60_df = apple_df.copy(deep=True)\n",
    "apple240_df = apple_df.copy(deep=True)\n",
    "apple1440_df = apple_df.copy(deep=True)"
   ],
   "metadata": {
    "collapsed": false,
    "pycharm": {
     "name": "#%%\n"
    }
   }
  },
  {
   "cell_type": "code",
   "execution_count": 12,
   "outputs": [],
   "source": [
    "amazon5_df[\"rounded_time\"] = (amazon5_df[\"published\"]).dt.round(\"5min\")\n",
    "amazon15_df[\"rounded_time\"] = (amazon15_df[\"published\"]).dt.round(\"15min\")\n",
    "amazon30_df[\"rounded_time\"] = (amazon30_df[\"published\"]).dt.round(\"30min\")\n",
    "amazon60_df[\"rounded_time\"] = (amazon60_df[\"published\"]).dt.round(\"1H\")\n",
    "amazon240_df[\"rounded_time\"] = (amazon240_df[\"published\"]).dt.round(\"4H\")\n",
    "amazon1440_df[\"rounded_time\"] = (amazon1440_df[\"published\"]).dt.round(\"1D\")\n",
    "\n",
    "apple5_df[\"rounded_time\"] = (apple5_df[\"published\"]).dt.round(\"5min\")\n",
    "apple15_df[\"rounded_time\"] = (apple15_df[\"published\"]).dt.round(\"15min\")\n",
    "apple30_df[\"rounded_time\"] = (apple30_df[\"published\"]).dt.round(\"30min\")\n",
    "apple60_df[\"rounded_time\"] = (apple60_df[\"published\"]).dt.round(\"1H\")\n",
    "apple240_df[\"rounded_time\"] = (apple240_df[\"published\"]).dt.round(\"4H\")\n",
    "apple1440_df[\"rounded_time\"] = (apple1440_df[\"published\"]).dt.round(\"1D\")\n",
    "\n",
    "CHARTS_dir = \"./data/CHARTS/\""
   ],
   "metadata": {
    "collapsed": false,
    "pycharm": {
     "name": "#%%\n"
    }
   }
  },
  {
   "cell_type": "code",
   "execution_count": 13,
   "outputs": [],
   "source": [
    "def join_CHARTS_data_and_GT(source_df, interval, company):\n",
    "    CHARTS_df = pd.read_csv(\n",
    "        os.path.join(CHARTS_dir, company + str(interval) + \".csv\"),\n",
    "        header=None,\n",
    "        index_col=False,\n",
    "    )\n",
    "    CHARTS_df.columns = [\n",
    "        \"year.month.day\",\n",
    "        \"24hr\",\n",
    "        \"Open\",\n",
    "        \"High\",\n",
    "        \"Low\",\n",
    "        \"Close\",\n",
    "        \"Volume\",\n",
    "    ]\n",
    "    CHARTS_df[\"temp_timestamp\"] = pd.to_datetime(\n",
    "        CHARTS_df[\"year.month.day\"].astype(str) + \"T\" + CHARTS_df[\"24hr\"],\n",
    "        format=\"%Y.%m.%dT%H:%M\",\n",
    "    )\n",
    "    right_on = \"rounded_time\"\n",
    "    CHARTS_df[\"label\"] = (CHARTS_df[\"Close\"].shift(1) - CHARTS_df[\"Close\"]).apply(\n",
    "        lambda x: 1 if x >= 0 else -1\n",
    "    )\n",
    "\n",
    "    if interval == 60:\n",
    "        CHARTS_df[\"timestamp\"] = CHARTS_df[\"temp_timestamp\"].dt.round(\"1H\")\n",
    "    elif interval == 240:\n",
    "        CHARTS_df[\"timestamp\"] = CHARTS_df[\"temp_timestamp\"].dt.round(\"4H\")\n",
    "    else:\n",
    "        CHARTS_df[\"timestamp\"] = CHARTS_df[\"temp_timestamp\"]\n",
    "\n",
    "    joined_df = pd.merge(\n",
    "        CHARTS_df,\n",
    "        source_df,\n",
    "        left_on=\"timestamp\",\n",
    "        right_on=right_on,\n",
    "        how=\"left\",\n",
    "        suffixes=(\"\", \"_y\"),\n",
    "    )\n",
    "    joined_df.drop(joined_df.filter(regex=\"_y$\").columns.tolist(), axis=1, inplace=True)\n",
    "    joined_df.drop([\"temp_timestamp\"], axis=1, inplace=True)\n",
    "\n",
    "    ########### READ AFTER TESTING\n",
    "    # joined_df.drop([\"entities\"], axis=1, inplace=True)\n",
    "    return joined_df"
   ],
   "metadata": {
    "collapsed": false,
    "pycharm": {
     "name": "#%%\n"
    }
   }
  },
  {
   "cell_type": "code",
   "execution_count": 14,
   "outputs": [],
   "source": [
    "amazon5_df = join_CHARTS_data_and_GT(amazon5_df, 5, \"AMAZON\")\n",
    "amazon15_df = join_CHARTS_data_and_GT(amazon15_df, 15, \"AMAZON\")\n",
    "amazon30_df = join_CHARTS_data_and_GT(amazon30_df, 30, \"AMAZON\")\n",
    "amazon60_df = join_CHARTS_data_and_GT(amazon60_df, 60, \"AMAZON\")\n",
    "amazon240_df = join_CHARTS_data_and_GT(amazon240_df, 240, \"AMAZON\")\n",
    "amazon1440_df = join_CHARTS_data_and_GT(amazon1440_df, 1440, \"AMAZON\")\n",
    "\n",
    "apple5_df = join_CHARTS_data_and_GT(apple5_df, 5, \"APPLE\")\n",
    "apple15_df = join_CHARTS_data_and_GT(apple15_df, 15, \"APPLE\")\n",
    "apple30_df = join_CHARTS_data_and_GT(apple30_df, 30, \"APPLE\")\n",
    "apple60_df = join_CHARTS_data_and_GT(apple60_df, 60, \"APPLE\")\n",
    "apple240_df = join_CHARTS_data_and_GT(apple240_df, 240, \"APPLE\")\n",
    "apple1440_df = join_CHARTS_data_and_GT(apple1440_df, 1440, \"APPLE\")"
   ],
   "metadata": {
    "collapsed": false,
    "pycharm": {
     "name": "#%%\n"
    }
   }
  },
  {
   "cell_type": "code",
   "execution_count": 15,
   "outputs": [],
   "source": [
    "amazon5_df.dropna(inplace=True)\n",
    "amazon15_df.dropna(inplace=True)\n",
    "amazon30_df.dropna(inplace=True)\n",
    "amazon60_df.dropna(inplace=True)\n",
    "amazon240_df.dropna(inplace=True)\n",
    "amazon1440_df.dropna(inplace=True)\n",
    "\n",
    "apple5_df.dropna(inplace=True)\n",
    "apple15_df.dropna(inplace=True)\n",
    "apple30_df.dropna(inplace=True)\n",
    "apple60_df.dropna(inplace=True)\n",
    "apple240_df.dropna(inplace=True)\n",
    "apple1440_df.dropna(inplace=True)\n",
    "\n",
    "amazon5_df.drop([\"text\"], axis=1, inplace=True)\n",
    "amazon15_df.drop([\"text\"], axis=1, inplace=True)\n",
    "amazon30_df.drop([\"text\"], axis=1, inplace=True)\n",
    "amazon60_df.drop([\"text\"], axis=1, inplace=True)\n",
    "amazon240_df.drop([\"text\"], axis=1, inplace=True)\n",
    "amazon1440_df.drop([\"text\"], axis=1, inplace=True)\n",
    "\n",
    "apple5_df.drop([\"text\"], axis=1, inplace=True)\n",
    "apple15_df.drop([\"text\"], axis=1, inplace=True)\n",
    "apple30_df.drop([\"text\"], axis=1, inplace=True)\n",
    "apple60_df.drop([\"text\"], axis=1, inplace=True)\n",
    "apple240_df.drop([\"text\"], axis=1, inplace=True)\n",
    "apple1440_df.drop([\"text\"], axis=1, inplace=True)"
   ],
   "metadata": {
    "collapsed": false,
    "pycharm": {
     "name": "#%%\n"
    }
   }
  },
  {
   "cell_type": "code",
   "execution_count": 16,
   "outputs": [],
   "source": [
    "def remove_duplicates(df):\n",
    "    df.sort_values(by=[\"filteredtext\"], inplace=True)\n",
    "    chunk_size = 1000\n",
    "    chunks = []\n",
    "    count = 0\n",
    "    # come back and take care of boundary conditions\n",
    "    while not df.empty:\n",
    "        # print(len(df))\n",
    "        count += 1\n",
    "        # print(\"iteration\", count)\n",
    "        chunks.append(df[:chunk_size])\n",
    "        df = df.iloc[chunk_size - 1 :]\n",
    "        if count != 1:\n",
    "            # print(str(chunks[-1].iloc[-1][\"filteredtext\"]))\n",
    "            # print(str(chunks[-2].iloc[0][\"filteredtext\"]))\n",
    "            if str(chunks[-1].iloc[-1][\"filteredtext\"]) == str(\n",
    "                chunks[-2].iloc[0][\"filteredtext\"]\n",
    "            ):\n",
    "                chunks[-2].drop(chunks[-2].tail(1).index, inplace=True)\n",
    "\n",
    "    for chunk in chunks:\n",
    "        chunk[\"row_string\"] = (\n",
    "            chunk[\"published\"].astype(str)\n",
    "            + chunk[\"site\"].astype(str)\n",
    "            + chunk[\"filteredtext\"].astype(str)\n",
    "        )\n",
    "\n",
    "        chunk.drop_duplicates(subset=[\"row_string\"], keep=\"first\", inplace=True)\n",
    "    df = pd.concat(chunks, ignore_index=True)\n",
    "    df.drop([\"row_string\"], axis=1, inplace=True)\n",
    "    # print(len(df))\n",
    "    return df"
   ],
   "metadata": {
    "collapsed": false,
    "pycharm": {
     "name": "#%%\n"
    }
   }
  },
  {
   "cell_type": "code",
   "execution_count": 17,
   "outputs": [
    {
     "name": "stderr",
     "output_type": "stream",
     "text": [
      "<ipython-input-16-531e5dfb380e>:22: SettingWithCopyWarning: \n",
      "A value is trying to be set on a copy of a slice from a DataFrame.\n",
      "Try using .loc[row_indexer,col_indexer] = value instead\n",
      "\n",
      "See the caveats in the documentation: https://pandas.pydata.org/pandas-docs/stable/user_guide/indexing.html#returning-a-view-versus-a-copy\n",
      "  chunk[\"row_string\"] = (\n",
      "<ipython-input-16-531e5dfb380e>:28: SettingWithCopyWarning: \n",
      "A value is trying to be set on a copy of a slice from a DataFrame\n",
      "\n",
      "See the caveats in the documentation: https://pandas.pydata.org/pandas-docs/stable/user_guide/indexing.html#returning-a-view-versus-a-copy\n",
      "  chunk.drop_duplicates(subset=[\"row_string\"], keep=\"first\", inplace=True)\n"
     ]
    }
   ],
   "source": [
    "amazon5_df = remove_duplicates(amazon5_df)\n",
    "amazon15_df = remove_duplicates(amazon15_df)\n",
    "amazon30_df = remove_duplicates(amazon30_df)\n",
    "amazon60_df = remove_duplicates(amazon60_df)\n",
    "amazon240_df = remove_duplicates(amazon240_df)\n",
    "amazon1440_df = remove_duplicates(amazon1440_df)\n",
    "\n",
    "apple5_df = remove_duplicates(apple5_df)\n",
    "apple15_df = remove_duplicates(apple15_df)\n",
    "apple30_df = remove_duplicates(apple30_df)\n",
    "apple60_df = remove_duplicates(apple60_df)\n",
    "apple240_df = remove_duplicates(apple240_df)\n",
    "apple1440_df = remove_duplicates(apple1440_df)\n",
    "\n",
    "amazon5_df.to_csv(\"data/amazon5.csv\", encoding=\"utf-8\", index=False)\n",
    "amazon15_df.to_csv(\"data/amazon15.csv\", encoding=\"utf-8\", index=False)\n",
    "amazon30_df.to_csv(\"data/amazon30.csv\", encoding=\"utf-8\", index=False)\n",
    "amazon60_df.to_csv(\"data/amazon60.csv\", encoding=\"utf-8\", index=False)\n",
    "amazon240_df.to_csv(\"data/amazon240.csv\", encoding=\"utf-8\", index=False)\n",
    "amazon1440_df.to_csv(\"data/amazon1440.csv\", encoding=\"utf-8\", index=False)\n",
    "\n",
    "apple5_df.to_csv(\"data/apple5.csv\", encoding=\"utf-8\", index=False)\n",
    "apple15_df.to_csv(\"data/apple15.csv\", encoding=\"utf-8\", index=False)\n",
    "apple30_df.to_csv(\"data/apple30.csv\", encoding=\"utf-8\", index=False)\n",
    "apple60_df.to_csv(\"data/apple60.csv\", encoding=\"utf-8\", index=False)\n",
    "apple240_df.to_csv(\"data/apple240.csv\", encoding=\"utf-8\", index=False)\n",
    "apple1440_df.to_csv(\"data/apple1440.csv\", encoding=\"utf-8\", index=False)\n",
    "\n",
    "# end = time.time()\n",
    "# print(end - start)\n",
    "\n",
    "\n"
   ],
   "metadata": {
    "collapsed": false,
    "pycharm": {
     "name": "#%%\n"
    }
   }
  }
 ],
 "metadata": {
  "kernelspec": {
   "display_name": "Python 3",
   "language": "python",
   "name": "python3"
  },
  "language_info": {
   "codemirror_mode": {
    "name": "ipython",
    "version": 3
   },
   "file_extension": ".py",
   "mimetype": "text/x-python",
   "name": "python",
   "nbconvert_exporter": "python",
   "pygments_lexer": "ipython3",
   "version": "3.7.4"
  }
 },
 "nbformat": 4,
 "nbformat_minor": 1
}