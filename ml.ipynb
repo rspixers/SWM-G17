{
 "metadata": {
  "language_info": {
   "codemirror_mode": {
    "name": "ipython",
    "version": 3
   },
   "file_extension": ".py",
   "mimetype": "text/x-python",
   "name": "python",
   "nbconvert_exporter": "python",
   "pygments_lexer": "ipython3",
   "version": "3.8.3"
  },
  "orig_nbformat": 2,
  "kernelspec": {
   "name": "python3",
   "display_name": "Python 3",
   "language": "python"
  }
 },
 "nbformat": 4,
 "nbformat_minor": 2,
 "cells": [
  {
   "cell_type": "code",
   "execution_count": 14,
   "metadata": {},
   "outputs": [
    {
     "output_type": "stream",
     "name": "stdout",
     "text": [
      "Requirement already satisfied: pysentiment2 in /Users/prashanth/opt/anaconda3/lib/python3.8/site-packages (0.1.1)\n",
      "Requirement already satisfied: nltk>=2.0 in /Users/prashanth/opt/anaconda3/lib/python3.8/site-packages (from pysentiment2) (3.5)\n",
      "Requirement already satisfied: pandas in /Users/prashanth/opt/anaconda3/lib/python3.8/site-packages (from pysentiment2) (1.0.5)\n",
      "Requirement already satisfied: tqdm in /Users/prashanth/opt/anaconda3/lib/python3.8/site-packages (from nltk>=2.0->pysentiment2) (4.47.0)\n",
      "Requirement already satisfied: click in /Users/prashanth/opt/anaconda3/lib/python3.8/site-packages (from nltk>=2.0->pysentiment2) (7.1.2)\n",
      "Requirement already satisfied: joblib in /Users/prashanth/opt/anaconda3/lib/python3.8/site-packages (from nltk>=2.0->pysentiment2) (0.16.0)\n",
      "Requirement already satisfied: regex in /Users/prashanth/opt/anaconda3/lib/python3.8/site-packages (from nltk>=2.0->pysentiment2) (2020.6.8)\n",
      "Requirement already satisfied: numpy>=1.13.3 in /Users/prashanth/opt/anaconda3/lib/python3.8/site-packages (from pandas->pysentiment2) (1.18.5)\n",
      "Requirement already satisfied: python-dateutil>=2.6.1 in /Users/prashanth/opt/anaconda3/lib/python3.8/site-packages (from pandas->pysentiment2) (2.8.1)\n",
      "Requirement already satisfied: pytz>=2017.2 in /Users/prashanth/opt/anaconda3/lib/python3.8/site-packages (from pandas->pysentiment2) (2020.1)\n",
      "Requirement already satisfied: six>=1.5 in /Users/prashanth/opt/anaconda3/lib/python3.8/site-packages (from python-dateutil>=2.6.1->pandas->pysentiment2) (1.15.0)\n"
     ]
    }
   ],
   "source": [
    "import pandas as pd\n",
    "import numpy as np\n",
    "import os\n",
    "#import spacy\n",
    "from IPython.display import display\n",
    "from gensim.scripts.glove2word2vec import glove2word2vec\n",
    "from gensim.models import KeyedVectors\n",
    "from sklearn.feature_extraction.text import TfidfVectorizer\n",
    "from sklearn.decomposition import PCA\n",
    "from sklearn.preprocessing import normalize\n",
    "from sklearn.feature_extraction.text import TfidfVectorizer\n",
    "import matplotlib.pyplot as plt\n",
    "from sklearn.model_selection import train_test_split\n",
    "from sklearn.linear_model import LogisticRegression\n",
    "from sklearn.metrics import classification_report\n",
    "from sklearn.metrics import f1_score\n",
    "from sklearn.naive_bayes import GaussianNB\n",
    "from sklearn.metrics import accuracy_score\n",
    "from sklearn.neural_network import MLPClassifier\n",
    "from sklearn.svm import SVC\n",
    "from sklearn.ensemble import RandomForestClassifier\n",
    "\n",
    "\n",
    "!pip install pysentiment2\n",
    "\n",
    "import pysentiment2 as ps "
   ]
  },
  {
   "cell_type": "code",
   "execution_count": 15,
   "metadata": {},
   "outputs": [],
   "source": [
    "def calculate_polarity_subjectivity(df):\n",
    "    lm = ps.LM()\n",
    "    hiv4 = ps.HIV4()\n",
    "    polarity_array = []\n",
    "    subjectivity_array = []\n",
    "    hiv_polarity = []\n",
    "    hiv_subjectivity = []\n",
    "    count=0\n",
    "    count1=0\n",
    "    for x in range(len(df['filteredtext'])):\n",
    "        tokens_m = lm.tokenize(df['filteredtext'][x])\n",
    "        score_m = lm.get_score(tokens_m)\n",
    "        polarity_array.append(score_m['Polarity'])\n",
    "        subjectivity_array.append(score_m['Subjectivity'])\n",
    "        tokens_hiv = hiv4.tokenize(df['filteredtext'][x])\n",
    "        score_hiv = hiv4.get_score(tokens_hiv)\n",
    "        hiv_polarity.append(score_hiv['Polarity'])\n",
    "        hiv_subjectivity.append(score_hiv['Subjectivity'])\n",
    "        if score_m['Polarity']*score_hiv['Polarity']<0:\n",
    "            count+=1\n",
    "    feature_df = pd.DataFrame()\n",
    "    feature_df['Mcdonald_Polarity'] = polarity_array\n",
    "    feature_df['Mcdonald_Subjectivity'] = subjectivity_array\n",
    "    feature_df['HIV_Polarity'] = hiv_polarity\n",
    "    feature_df['HIV_Subjectivity'] = hiv_subjectivity\n",
    "    return feature_df"
   ]
  },
  {
   "cell_type": "code",
   "execution_count": 16,
   "metadata": {},
   "outputs": [],
   "source": [
    "def get_glove_embeddings(df):\n",
    "        word_list = []\n",
    "        for i in df['filteredtext']:\n",
    "            x = i[1:-1].split(\", \")\n",
    "            words = []\n",
    "            for j in x:\n",
    "                s = j.split(\" \")\n",
    "                for k in s:\n",
    "                    words.append(k)\n",
    "            word_list.append(words)\n",
    "        filename = './data/glove.6B.100d.txt.word2vec'\n",
    "        model = KeyedVectors.load_word2vec_format(filename, binary=False)\n",
    "\n",
    "\n",
    "        embedding_list = []\n",
    "        for i in word_list:\n",
    "            embeddings = []\n",
    "            for j in i:\n",
    "                try:\n",
    "                    glov = model[j]\n",
    "                    embeddings.append(glov)\n",
    "                except:\n",
    "                    continue\n",
    "            embedding_list.append(embeddings)\n",
    "        return embedding_list"
   ]
  },
  {
   "cell_type": "code",
   "execution_count": 17,
   "metadata": {},
   "outputs": [],
   "source": [
    "def tfIDFvectorization(input_df):\n",
    "    vectorizer = TfidfVectorizer()\n",
    "    vectors = vectorizer.fit_transform(list(input_df[\"filteredtext\"]))\n",
    "    feature_names = vectorizer.get_feature_names()\n",
    "    dense = vectors.todense()\n",
    "    denselist = dense.tolist()\n",
    "    df = pd.DataFrame(denselist, columns=feature_names)\n",
    "    normalize(df)\n",
    "    return df"
   ]
  },
  {
   "cell_type": "code",
   "execution_count": 32,
   "metadata": {},
   "outputs": [],
   "source": [
    "def logisticRegression():\n",
    "    clf = LogisticRegression(random_state=10)\n",
    "    clf.fit(X_train, y_train)\n",
    "    # print(classification_report(y_test, clf.predict(X_test)))\n",
    "    # print(\"LR Training Score: \",clf.score(X_train,y_train))\n",
    "    # print(\"LR F1 Score:\",f1_score(y_test,clf.predict(X_test),zero_division=0))\n",
    "    # print(\"LR Accuracy:\",accuracy_score(y_test,clf.predict(X_test)))\n",
    "    return accuracy_score(y_test,clf.predict(X_test))"
   ]
  },
  {
   "cell_type": "code",
   "execution_count": 19,
   "metadata": {},
   "outputs": [],
   "source": [
    "def naiveBayes():\n",
    "    clf_NB = GaussianNB()\n",
    "    clf_NB.fit(X_train,y_train)\n",
    "    # print(classification_report(y_test, clf_NB.predict(X_test)))\n",
    "    # print(\"NB Training Score:\",clf_NB.score(X_train,y_train))\n",
    "    # print(\"NB F1 Score: \",f1_score(y_test,clf_NB.predict(X_test),zero_division=0))\n",
    "    # print(\"NB Accuracy:\",accuracy_score(y_test,clf_NB.predict(X_test)))\n",
    "    return accuracy_score(y_test,clf_NB.predict(X_test))"
   ]
  },
  {
   "cell_type": "code",
   "execution_count": 20,
   "metadata": {},
   "outputs": [],
   "source": [
    "def mlp():\n",
    "    clf = MLPClassifier()\n",
    "    clf.fit(X_train, y_train)\n",
    "    # print(classification_report(y_test, clf.predict(X_test)))\n",
    "    # print(\"MLP Training Score: \",clf.score(X_train,y_train))\n",
    "    # print(\"MLP F1 Score:\",f1_score(y_test,clf.predict(X_test),zero_division=0))\n",
    "    # print(\"MLP Accuracy:\",accuracy_score(y_test,clf.predict(X_test)))\n",
    "    return accuracy_score(y_test,clf.predict(X_test))"
   ]
  },
  {
   "cell_type": "code",
   "execution_count": 21,
   "metadata": {},
   "outputs": [],
   "source": [
    "\n",
    "def linearSVM():\n",
    "    clf = SVC(kernel=\"linear\")\n",
    "    clf.fit(X_train, y_train)\n",
    "    # print(classification_report(y_test, clf.predict(X_test)))\n",
    "    # print(\"Linear SVM Training Score: \",clf.score(X_train,y_train))\n",
    "    # print(\"Linear SVM F1 Score:\",f1_score(y_test,clf.predict(X_test),zero_division=0))\n",
    "    # print(\"Linear Accuracy:\",accuracy_score(y_test,clf.predict(X_test)))\n",
    "    return accuracy_score(y_test,clf.predict(X_test))\n",
    "    "
   ]
  },
  {
   "cell_type": "code",
   "execution_count": 22,
   "metadata": {},
   "outputs": [],
   "source": [
    "def randomForest():\n",
    "    clf = RandomForestClassifier(n_estimators=1000)\n",
    "    clf.fit(X_train, y_train)\n",
    "    # print(classification_report(y_test, clf.predict(X_test)))\n",
    "    # print(\"RF Training Score: \",clf.score(X_train,y_train))\n",
    "    # print(\"RF F1 Score:\",f1_score(y_test,clf.predict(X_test),zero_division=0))\n",
    "    # print(\"RF Accuracy:\",accuracy_score(y_test,clf.predict(X_test)))\n",
    "    return accuracy_score(y_test,clf.predict(X_test))\n",
    "    "
   ]
  },
  {
   "cell_type": "code",
   "execution_count": 23,
   "metadata": {},
   "outputs": [
    {
     "output_type": "stream",
     "name": "stdout",
     "text": [
      "(2955, 6087)\n(2955, 4)\n"
     ]
    }
   ],
   "source": [
    "amazon60 = pd.read_csv(\"data/beforeafter/amazon60.csv\")\n",
    "tfidf_df = tfIDFvectorization(amazon60)\n",
    "polsub_df = calculate_polarity_subjectivity(amazon60)\n",
    "#glove_df=get_glove_embeddings(amazon5)\n",
    "print(tfidf_df.shape)\n",
    "print(polsub_df.shape)\n"
   ]
  },
  {
   "cell_type": "code",
   "execution_count": null,
   "metadata": {},
   "outputs": [],
   "source": [
    "glove_df=get_glove_embeddings(amazon5)"
   ]
  },
  {
   "cell_type": "code",
   "execution_count": null,
   "metadata": {},
   "outputs": [],
   "source": [
    "glove_df = pd.Dataframe(glove_df, columns=[\"Glove\"])"
   ]
  },
  {
   "cell_type": "code",
   "execution_count": null,
   "metadata": {},
   "outputs": [],
   "source": []
  },
  {
   "cell_type": "code",
   "execution_count": 30,
   "metadata": {},
   "outputs": [
    {
     "output_type": "stream",
     "name": "stdout",
     "text": [
      "(2955, 6091)\n"
     ]
    }
   ],
   "source": [
    "feature_df = pd.concat([tfidf_df, polsub_df],axis=1)\n",
    "#feature_df=pd.concat([feature_df,glove_df],axis=1)\n",
    "print(feature_df.shape)\n"
   ]
  },
  {
   "cell_type": "code",
   "execution_count": 31,
   "metadata": {},
   "outputs": [
    {
     "output_type": "stream",
     "name": "stdout",
     "text": [
      "0.48223350253807107\n",
      "0.47884940778341795\n",
      "0.5177664974619289\n",
      "0.4890016920473773\n",
      "0.5363790186125211\n"
     ]
    }
   ],
   "source": [
    "\n",
    "\n",
    "pca = PCA(n_components=2955)\n",
    "amazon60_tfidf_reduced = pca.fit_transform(feature_df)\n",
    "labels = amazon60[\"label\"]\n",
    "X_train, X_test, y_train, y_test = train_test_split(amazon60_tfidf_reduced, labels, test_size=0.2, random_state=42)\n",
    "# if temp>acc1:\n",
    "#     acc1=temp\n",
    "#     n1=n\n",
    "\n",
    "print(logisticRegression())\n",
    "\n",
    "print(naiveBayes())\n",
    "\n",
    "print(mlp())\n",
    "\n",
    "print(linearSVM())\n",
    "print(randomForest())"
   ]
  },
  {
   "cell_type": "code",
   "execution_count": 33,
   "metadata": {},
   "outputs": [
    {
     "output_type": "stream",
     "name": "stdout",
     "text": [
      "0.48223350253807107\n"
     ]
    }
   ],
   "source": [
    "print(logisticRegression())"
   ]
  },
  {
   "cell_type": "code",
   "execution_count": 35,
   "metadata": {},
   "outputs": [
    {
     "output_type": "stream",
     "name": "stdout",
     "text": [
      "Collecting xgboost\n",
      "  Downloading xgboost-1.3.3-py3-none-macosx_10_14_x86_64.macosx_10_15_x86_64.macosx_11_0_x86_64.whl (1.2 MB)\n",
      "\u001b[K     |████████████████████████████████| 1.2 MB 4.2 MB/s \n",
      "\u001b[?25hRequirement already satisfied: numpy in /Users/prashanth/opt/anaconda3/lib/python3.8/site-packages (from xgboost) (1.18.5)\n",
      "Requirement already satisfied: scipy in /Users/prashanth/opt/anaconda3/lib/python3.8/site-packages (from xgboost) (1.5.0)\n",
      "Installing collected packages: xgboost\n",
      "Successfully installed xgboost-1.3.3\n"
     ]
    }
   ],
   "source": [
    "!pip install xgboost"
   ]
  },
  {
   "cell_type": "code",
   "execution_count": 37,
   "metadata": {},
   "outputs": [
    {
     "output_type": "stream",
     "name": "stdout",
     "text": [
      "[18:49:46] WARNING: /Users/travis/build/dmlc/xgboost/src/learner.cc:1061: Starting in XGBoost 1.3.0, the default evaluation metric used with the objective 'binary:logistic' was changed from 'error' to 'logloss'. Explicitly set eval_metric if you'd like to restore the old behavior.\n",
      "Training accuracy is 1.0\n",
      "Testing accuracy is 0.5076142131979695\n"
     ]
    }
   ],
   "source": [
    "from xgboost import XGBClassifier\n",
    "from sklearn import preprocessing\n",
    "# scale the data\n",
    "minmaxScaler = preprocessing.MinMaxScaler()\n",
    "scaled_x_train = minmaxScaler.fit_transform(X_train)\n",
    "scaled_x_test = minmaxScaler.fit_transform(X_test)\n",
    "# create and train SVM model\n",
    "xgboost_model = XGBClassifier()\n",
    "xgboost_model.fit(scaled_x_train, y_train)\n",
    "# generate prediction\n",
    "y_train_pred = xgboost_model.predict(scaled_x_train)\n",
    "y_test_pred = xgboost_model.predict(scaled_x_test)\n",
    "# display train and test accuracy\n",
    "train_accuracy = accuracy_score(y_train, y_train_pred)\n",
    "print('Training accuracy is {0}'.format(train_accuracy))\n",
    "test_accuracy = accuracy_score(y_test, y_test_pred)\n",
    "print('Testing accuracy is {0}'.format(test_accuracy))"
   ]
  },
  {
   "cell_type": "code",
   "execution_count": 40,
   "metadata": {},
   "outputs": [
    {
     "output_type": "stream",
     "name": "stdout",
     "text": [
      "Training accuracy is 0.9991539763113367\nTesting accuracy is 0.5194585448392555\n"
     ]
    }
   ],
   "source": [
    "from sklearn import svm\n",
    "# create and train SVM model\n",
    "svm_model = svm.NuSVC(gamma='scale',probability=True)\n",
    "svm_model.fit(scaled_x_train, y_train)\n",
    "# generate prediction\n",
    "y_train_pred = svm_model.predict(scaled_x_train)\n",
    "y_test_pred = svm_model.predict(scaled_x_test)\n",
    "# display train and test accuracy\n",
    "train_accuracy = accuracy_score(y_train, y_train_pred)\n",
    "print('Training accuracy is {0}'.format(train_accuracy))\n",
    "test_accuracy = accuracy_score(y_test, y_test_pred)\n",
    "print('Testing accuracy is {0}'.format(test_accuracy))"
   ]
  },
  {
   "cell_type": "code",
   "execution_count": 45,
   "metadata": {},
   "outputs": [
    {
     "output_type": "stream",
     "name": "stdout",
     "text": [
      "0.5093062605752962\n"
     ]
    }
   ],
   "source": [
    "#X_train, X_test, y_train, y_test\n",
    "# Decision tree \n",
    "from sklearn import tree\n",
    "from sklearn.tree import DecisionTreeClassifier\n",
    "\n",
    "decision_tree = tree.DecisionTreeClassifier()\n",
    "decision_tree = decision_tree.fit(X_train, y_train)\n",
    "res_pred = decision_tree.predict(X_test)\n",
    "score = accuracy_score(y_test, res_pred)\n",
    "\n",
    "print(score)\n"
   ]
  },
  {
   "cell_type": "code",
   "execution_count": null,
   "metadata": {},
   "outputs": [],
   "source": [
    "!pip install tensorflow==1.14.0\n",
    "from keras.models import Sequential\n",
    "from keras.layers import Dense\n",
    "from keras.layers import LSTM,Bidirectional\n",
    "from keras.optimizers import Adam\n",
    "from keras.layers import Embedding\n",
    "model = Sequential()\n",
    "# e = Embedding(vocab_size, 100, weights=[embedding_matrix], input_length=1500, trainable=False)\n",
    "# model.add(e)\n",
    "model.add(Bidirectional(LSTM(128,input_shape=(1,X_train.shape[1]),dropout=0.2)))\n",
    "model.add(Dense(2,activation='softmax'))\n",
    "model.compile(loss='categorical_crossentropy', optimizer=Adam(lr=0.01),metrics=['accuracy'])\n",
    "model.fit(trainX, y_train, epochs=30, batch_size=32, verbose=1,validation_split=0.2)\n",
    "score, acc = model.evaluate(trainX, y_train)\n",
    "print('Test score:', score)\n",
    "print('Test accuracy:', acc)\n",
    "testX=np.reshape(X_test, (X_test.shape[0], 1, X_train.shape[1]))\n",
    "score, acc = model.evaluate(testX, y_test)\n",
    "print('Test score:', score)\n",
    "print('Test accuracy:', acc)"
   ]
  }
 ]
}