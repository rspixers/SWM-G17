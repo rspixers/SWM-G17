{
 "metadata": {
  "language_info": {
   "codemirror_mode": {
    "name": "ipython",
    "version": 3
   },
   "file_extension": ".py",
   "mimetype": "text/x-python",
   "name": "python",
   "nbconvert_exporter": "python",
   "pygments_lexer": "ipython3",
   "version": "3.7.4-final"
  },
  "orig_nbformat": 2,
  "kernelspec": {
   "name": "python3",
   "display_name": "Python 3",
   "language": "python"
  }
 },
 "nbformat": 4,
 "nbformat_minor": 2,
 "cells": [
  {
   "cell_type": "code",
   "execution_count": 76,
   "metadata": {},
   "outputs": [
    {
     "output_type": "error",
     "ename": "ImportError",
     "evalue": "cannot import name 'Dataframe' from 'pandas' (/Users/srihariravi/opt/anaconda3/lib/python3.7/site-packages/pandas/__init__.py)",
     "traceback": [
      "\u001b[0;31m---------------------------------------------------------------------------\u001b[0m",
      "\u001b[0;31mImportError\u001b[0m                               Traceback (most recent call last)",
      "\u001b[0;32m<ipython-input-76-14d28300f99b>\u001b[0m in \u001b[0;36m<module>\u001b[0;34m\u001b[0m\n\u001b[1;32m      1\u001b[0m \u001b[0;32mimport\u001b[0m \u001b[0mpandas\u001b[0m \u001b[0;32mas\u001b[0m \u001b[0mpd\u001b[0m\u001b[0;34m\u001b[0m\u001b[0;34m\u001b[0m\u001b[0m\n\u001b[0;32m----> 2\u001b[0;31m \u001b[0;32mfrom\u001b[0m \u001b[0mpandas\u001b[0m \u001b[0;32mimport\u001b[0m \u001b[0mDataframe\u001b[0m\u001b[0;34m\u001b[0m\u001b[0;34m\u001b[0m\u001b[0m\n\u001b[0m\u001b[1;32m      3\u001b[0m \u001b[0;32mimport\u001b[0m \u001b[0mnumpy\u001b[0m \u001b[0;32mas\u001b[0m \u001b[0mnp\u001b[0m\u001b[0;34m\u001b[0m\u001b[0;34m\u001b[0m\u001b[0m\n\u001b[1;32m      4\u001b[0m \u001b[0;32mimport\u001b[0m \u001b[0mos\u001b[0m\u001b[0;34m\u001b[0m\u001b[0;34m\u001b[0m\u001b[0m\n\u001b[1;32m      5\u001b[0m \u001b[0;32mimport\u001b[0m \u001b[0mspacy\u001b[0m\u001b[0;34m\u001b[0m\u001b[0;34m\u001b[0m\u001b[0m\n",
      "\u001b[0;31mImportError\u001b[0m: cannot import name 'Dataframe' from 'pandas' (/Users/srihariravi/opt/anaconda3/lib/python3.7/site-packages/pandas/__init__.py)"
     ]
    }
   ],
   "source": [
    "import pandas as pd\n",
    "from pandas import Dataframe\n",
    "import numpy as np\n",
    "import os\n",
    "import spacy\n",
    "from IPython.display import display\n",
    "from gensim.scripts.glove2word2vec import glove2word2vec\n",
    "from gensim.models import KeyedVectors\n",
    "from sklearn.feature_extraction.text import TfidfVectorizer\n",
    "from sklearn.decomposition import PCA\n",
    "from sklearn.preprocessing import normalize\n",
    "from sklearn.feature_extraction.text import TfidfVectorizer\n",
    "import matplotlib.pyplot as plt\n",
    "from sklearn.model_selection import train_test_split\n",
    "from sklearn.linear_model import LogisticRegression\n",
    "from sklearn.metrics import classification_report\n",
    "from sklearn.metrics import f1_score\n",
    "from sklearn.naive_bayes import GaussianNB\n",
    "from sklearn.metrics import accuracy_score\n",
    "from sklearn.neural_network import MLPClassifier\n",
    "from sklearn.svm import SVC\n",
    "from sklearn.ensemble import RandomForestClassifier\n",
    "\n",
    "\n",
    "!pip install pysentiment2\n",
    "\n",
    "import pysentiment2 as ps "
   ]
  },
  {
   "cell_type": "code",
   "execution_count": 61,
   "metadata": {},
   "outputs": [],
   "source": [
    "def calculate_polarity_subjectivity(df):\n",
    "    lm = ps.LM()\n",
    "    hiv4 = ps.HIV4()\n",
    "    polarity_array = []\n",
    "    subjectivity_array = []\n",
    "    hiv_polarity = []\n",
    "    hiv_subjectivity = []\n",
    "    count=0\n",
    "    count1=0\n",
    "    for x in range(len(df['filteredtext'])):\n",
    "        tokens_m = lm.tokenize(df['filteredtext'][x])\n",
    "        score_m = lm.get_score(tokens_m)\n",
    "        polarity_array.append(score_m['Polarity'])\n",
    "        subjectivity_array.append(score_m['Subjectivity'])\n",
    "        tokens_hiv = hiv4.tokenize(df['filteredtext'][x])\n",
    "        score_hiv = hiv4.get_score(tokens_hiv)\n",
    "        hiv_polarity.append(score_hiv['Polarity'])\n",
    "        hiv_subjectivity.append(score_hiv['Subjectivity'])\n",
    "        if score_m['Polarity']*score_hiv['Polarity']<0:\n",
    "            count+=1\n",
    "    feature_df = pd.DataFrame()\n",
    "    feature_df['Mcdonald_Polarity'] = polarity_array\n",
    "    feature_df['Mcdonald_Subjectivity'] = subjectivity_array\n",
    "    feature_df['HIV_Polarity'] = hiv_polarity\n",
    "    feature_df['HIV_Subjectivity'] = hiv_subjectivity\n",
    "    return feature_df"
   ]
  },
  {
   "cell_type": "code",
   "execution_count": 62,
   "metadata": {},
   "outputs": [],
   "source": [
    "def get_glove_embeddings(df):\n",
    "        word_list = []\n",
    "        for i in df['filteredtext']:\n",
    "            x = i[1:-1].split(\", \")\n",
    "            words = []\n",
    "            for j in x:\n",
    "                s = j.split(\" \")\n",
    "                for k in s:\n",
    "                    words.append(k)\n",
    "            word_list.append(words)\n",
    "        filename = './data/glove.6B.100d.txt.word2vec'\n",
    "        model = KeyedVectors.load_word2vec_format(filename, binary=False)\n",
    "\n",
    "\n",
    "        embedding_list = []\n",
    "        for i in word_list:\n",
    "            embeddings = []\n",
    "            for j in i:\n",
    "                try:\n",
    "                    glov = model[j]\n",
    "                    embeddings.append(glov)\n",
    "                except:\n",
    "                    continue\n",
    "            embedding_list.append(embeddings)\n",
    "        return embedding_list"
   ]
  },
  {
   "cell_type": "code",
   "execution_count": 63,
   "metadata": {},
   "outputs": [],
   "source": [
    "def tfIDFvectorization(input_df):\n",
    "    vectorizer = TfidfVectorizer()\n",
    "    vectors = vectorizer.fit_transform(list(input_df[\"filteredtext\"]))\n",
    "    feature_names = vectorizer.get_feature_names()\n",
    "    dense = vectors.todense()\n",
    "    denselist = dense.tolist()\n",
    "    df = pd.DataFrame(denselist, columns=feature_names)\n",
    "    normalize(df)\n",
    "    return df"
   ]
  },
  {
   "cell_type": "code",
   "execution_count": 64,
   "metadata": {},
   "outputs": [],
   "source": [
    "def logisticRegression():\n",
    "    clf = LogisticRegression()\n",
    "    clf.fit(X_train, y_train)\n",
    "    # print(classification_report(y_test, clf.predict(X_test)))\n",
    "    # print(\"LR Training Score: \",clf.score(X_train,y_train))\n",
    "    # print(\"LR F1 Score:\",f1_score(y_test,clf.predict(X_test),zero_division=0))\n",
    "    # print(\"LR Accuracy:\",accuracy_score(y_test,clf.predict(X_test)))\n",
    "    return accuracy_score(y_test,clf.predict(X_test))"
   ]
  },
  {
   "cell_type": "code",
   "execution_count": 65,
   "metadata": {},
   "outputs": [],
   "source": [
    "def naiveBayes():\n",
    "    clf_NB = GaussianNB()\n",
    "    clf_NB.fit(X_train,y_train)\n",
    "    # print(classification_report(y_test, clf_NB.predict(X_test)))\n",
    "    # print(\"NB Training Score:\",clf_NB.score(X_train,y_train))\n",
    "    # print(\"NB F1 Score: \",f1_score(y_test,clf_NB.predict(X_test),zero_division=0))\n",
    "    # print(\"NB Accuracy:\",accuracy_score(y_test,clf_NB.predict(X_test)))\n",
    "    return accuracy_score(y_test,clf_NB.predict(X_test))"
   ]
  },
  {
   "cell_type": "code",
   "execution_count": 66,
   "metadata": {},
   "outputs": [],
   "source": [
    "def mlp():\n",
    "    clf = MLPClassifier()\n",
    "    clf.fit(X_train, y_train)\n",
    "    # print(classification_report(y_test, clf.predict(X_test)))\n",
    "    # print(\"MLP Training Score: \",clf.score(X_train,y_train))\n",
    "    # print(\"MLP F1 Score:\",f1_score(y_test,clf.predict(X_test),zero_division=0))\n",
    "    # print(\"MLP Accuracy:\",accuracy_score(y_test,clf.predict(X_test)))\n",
    "    return accuracy_score(y_test,clf.predict(X_test))"
   ]
  },
  {
   "cell_type": "code",
   "execution_count": 67,
   "metadata": {},
   "outputs": [],
   "source": [
    "def linearSVM():\n",
    "    clf = SVC(kernel=\"linear\")\n",
    "    clf.fit(X_train, y_train)\n",
    "    # print(classification_report(y_test, clf.predict(X_test)))\n",
    "    # print(\"Linear SVM Training Score: \",clf.score(X_train,y_train))\n",
    "    # print(\"Linear SVM F1 Score:\",f1_score(y_test,clf.predict(X_test),zero_division=0))\n",
    "    # print(\"Linear Accuracy:\",accuracy_score(y_test,clf.predict(X_test)))\n",
    "    return accuracy_score(y_test,clf.predict(X_test))\n",
    "    "
   ]
  },
  {
   "cell_type": "code",
   "execution_count": 68,
   "metadata": {},
   "outputs": [],
   "source": [
    "def randomForest():\n",
    "    clf = RandomForestClassifier(n_estimators=1000)\n",
    "    clf.fit(n_estimatorX_train, y_train)\n",
    "    # print(classification_report(y_test, clf.predict(X_test)))\n",
    "    # print(\"RF Training Score: \",clf.score(X_train,y_train))\n",
    "    # print(\"RF F1 Score:\",f1_score(y_test,clf.predict(X_test),zero_division=0))\n",
    "    # print(\"RF Accuracy:\",accuracy_score(y_test,clf.predict(X_test)))\n",
    "    return accuracy_score(y_test,clf.predict(X_test))\n",
    "    "
   ]
  },
  {
   "cell_type": "code",
   "execution_count": 69,
   "metadata": {},
   "outputs": [
    {
     "output_type": "stream",
     "name": "stdout",
     "text": [
      "(4953, 7145)\n(4953, 4)\n"
     ]
    }
   ],
   "source": [
    "amazon5 = pd.read_csv(\"data/amazon5.csv\")\n",
    "tfidf_df = tfIDFvectorization(amazon5)\n",
    "polsub_df = calculate_polarity_subjectivity(amazon5)\n",
    "glove_df=get_glove_embeddings(amazon5)\n",
    "print(tfidf_df.shape)\n",
    "print(polsub_df.shape)\n"
   ]
  },
  {
   "cell_type": "code",
   "execution_count": null,
   "metadata": {},
   "outputs": [],
   "source": [
    "glove_df"
   ]
  },
  {
   "cell_type": "code",
   "execution_count": null,
   "metadata": {},
   "outputs": [],
   "source": [
    "glove_df = pd.Dataframe(glove_df, columns=[\"Glove\"])"
   ]
  },
  {
   "cell_type": "code",
   "execution_count": null,
   "metadata": {},
   "outputs": [],
   "source": []
  },
  {
   "cell_type": "code",
   "execution_count": 45,
   "metadata": {},
   "outputs": [
    {
     "output_type": "error",
     "ename": "TypeError",
     "evalue": "cannot concatenate object of type '<class 'list'>'; only Series and DataFrame objs are valid",
     "traceback": [
      "\u001b[0;31m---------------------------------------------------------------------------\u001b[0m",
      "\u001b[0;31mTypeError\u001b[0m                                 Traceback (most recent call last)",
      "\u001b[0;32m<ipython-input-45-100613819f4b>\u001b[0m in \u001b[0;36m<module>\u001b[0;34m\u001b[0m\n\u001b[1;32m      1\u001b[0m \u001b[0mfeature_df\u001b[0m \u001b[0;34m=\u001b[0m \u001b[0mpd\u001b[0m\u001b[0;34m.\u001b[0m\u001b[0mconcat\u001b[0m\u001b[0;34m(\u001b[0m\u001b[0;34m[\u001b[0m\u001b[0mtfidf_df\u001b[0m\u001b[0;34m,\u001b[0m \u001b[0mpolsub_df\u001b[0m\u001b[0;34m]\u001b[0m\u001b[0;34m,\u001b[0m\u001b[0maxis\u001b[0m\u001b[0;34m=\u001b[0m\u001b[0;36m1\u001b[0m\u001b[0;34m)\u001b[0m\u001b[0;34m\u001b[0m\u001b[0;34m\u001b[0m\u001b[0m\n\u001b[0;32m----> 2\u001b[0;31m \u001b[0mfeature_df\u001b[0m\u001b[0;34m=\u001b[0m\u001b[0mpd\u001b[0m\u001b[0;34m.\u001b[0m\u001b[0mconcat\u001b[0m\u001b[0;34m(\u001b[0m\u001b[0;34m[\u001b[0m\u001b[0mfeature_df\u001b[0m\u001b[0;34m,\u001b[0m\u001b[0mglove_df\u001b[0m\u001b[0;34m]\u001b[0m\u001b[0;34m,\u001b[0m\u001b[0maxis\u001b[0m\u001b[0;34m=\u001b[0m\u001b[0;36m1\u001b[0m\u001b[0;34m)\u001b[0m\u001b[0;34m\u001b[0m\u001b[0;34m\u001b[0m\u001b[0m\n\u001b[0m\u001b[1;32m      3\u001b[0m \u001b[0;31m# print(feature_df.shape)\u001b[0m\u001b[0;34m\u001b[0m\u001b[0;34m\u001b[0m\u001b[0;34m\u001b[0m\u001b[0m\n",
      "\u001b[0;32m~/opt/anaconda3/lib/python3.7/site-packages/pandas/core/reshape/concat.py\u001b[0m in \u001b[0;36mconcat\u001b[0;34m(objs, axis, join, join_axes, ignore_index, keys, levels, names, verify_integrity, sort, copy)\u001b[0m\n\u001b[1;32m    253\u001b[0m         \u001b[0mverify_integrity\u001b[0m\u001b[0;34m=\u001b[0m\u001b[0mverify_integrity\u001b[0m\u001b[0;34m,\u001b[0m\u001b[0;34m\u001b[0m\u001b[0;34m\u001b[0m\u001b[0m\n\u001b[1;32m    254\u001b[0m         \u001b[0mcopy\u001b[0m\u001b[0;34m=\u001b[0m\u001b[0mcopy\u001b[0m\u001b[0;34m,\u001b[0m\u001b[0;34m\u001b[0m\u001b[0;34m\u001b[0m\u001b[0m\n\u001b[0;32m--> 255\u001b[0;31m         \u001b[0msort\u001b[0m\u001b[0;34m=\u001b[0m\u001b[0msort\u001b[0m\u001b[0;34m,\u001b[0m\u001b[0;34m\u001b[0m\u001b[0;34m\u001b[0m\u001b[0m\n\u001b[0m\u001b[1;32m    256\u001b[0m     )\n\u001b[1;32m    257\u001b[0m \u001b[0;34m\u001b[0m\u001b[0m\n",
      "\u001b[0;32m~/opt/anaconda3/lib/python3.7/site-packages/pandas/core/reshape/concat.py\u001b[0m in \u001b[0;36m__init__\u001b[0;34m(self, objs, axis, join, join_axes, keys, levels, names, ignore_index, verify_integrity, copy, sort)\u001b[0m\n\u001b[1;32m    330\u001b[0m                     \u001b[0;34m\" only Series and DataFrame objs are valid\"\u001b[0m\u001b[0;34m.\u001b[0m\u001b[0mformat\u001b[0m\u001b[0;34m(\u001b[0m\u001b[0mtype\u001b[0m\u001b[0;34m(\u001b[0m\u001b[0mobj\u001b[0m\u001b[0;34m)\u001b[0m\u001b[0;34m)\u001b[0m\u001b[0;34m\u001b[0m\u001b[0;34m\u001b[0m\u001b[0m\n\u001b[1;32m    331\u001b[0m                 )\n\u001b[0;32m--> 332\u001b[0;31m                 \u001b[0;32mraise\u001b[0m \u001b[0mTypeError\u001b[0m\u001b[0;34m(\u001b[0m\u001b[0mmsg\u001b[0m\u001b[0;34m)\u001b[0m\u001b[0;34m\u001b[0m\u001b[0;34m\u001b[0m\u001b[0m\n\u001b[0m\u001b[1;32m    333\u001b[0m \u001b[0;34m\u001b[0m\u001b[0m\n\u001b[1;32m    334\u001b[0m             \u001b[0;31m# consolidate\u001b[0m\u001b[0;34m\u001b[0m\u001b[0;34m\u001b[0m\u001b[0;34m\u001b[0m\u001b[0m\n",
      "\u001b[0;31mTypeError\u001b[0m: cannot concatenate object of type '<class 'list'>'; only Series and DataFrame objs are valid"
     ]
    }
   ],
   "source": [
    "feature_df = pd.concat([tfidf_df, polsub_df],axis=1)\n",
    "feature_df=pd.concat([feature_df,glove_df],axis=1)\n",
    "# print(feature_df.shape)\n"
   ]
  },
  {
   "cell_type": "code",
   "execution_count": null,
   "metadata": {},
   "outputs": [],
   "source": [
    "\n",
    "\n",
    "pca = PCA(n_components=4000)\n",
    "amazon5_tfidf_reduced = pca.fit_transform(feature_df)\n",
    "labels = amazon5[\"label\"]\n",
    "X_train, X_test, y_train, y_test = train_test_split(amazon5_tfidf_reduced, labels, test_size=0.2, random_state=42)\n",
    "# if temp>acc1:\n",
    "#     acc1=temp\n",
    "#     n1=n\n",
    "\n",
    "print(logisticRegression())\n",
    "\n",
    "print(naiveBayes())\n",
    "\n",
    "print(mlp())\n",
    "\n",
    "print(linearSVM())\n",
    "print(randomForest())"
   ]
  },
  {
   "cell_type": "code",
   "execution_count": null,
   "metadata": {},
   "outputs": [],
   "source": [
    "!pip install tensorflow==1.14.0\n",
    "from keras.models import Sequential\n",
    "from keras.layers import Dense\n",
    "from keras.layers import LSTM,Bidirectional\n",
    "from keras.optimizers import Adam\n",
    "from keras.layers import Embedding\n",
    "model = Sequential()\n",
    "# e = Embedding(vocab_size, 100, weights=[embedding_matrix], input_length=1500, trainable=False)\n",
    "# model.add(e)\n",
    "model.add(Bidirectional(LSTM(128,input_shape=(1,X_train.shape[1]),dropout=0.2)))\n",
    "model.add(Dense(2,activation='softmax'))\n",
    "model.compile(loss='categorical_crossentropy', optimizer=Adam(lr=0.01),metrics=['accuracy'])\n",
    "model.fit(trainX, y_train, epochs=30, batch_size=32, verbose=1,validation_split=0.2)\n",
    "score, acc = model.evaluate(trainX, y_train)\n",
    "print('Test score:', score)\n",
    "print('Test accuracy:', acc)\n",
    "testX=np.reshape(X_test, (X_test.shape[0], 1, X_train.shape[1]))\n",
    "score, acc = model.evaluate(testX, y_test)\n",
    "print('Test score:', score)\n",
    "print('Test accuracy:', acc)"
   ]
  }
 ]
}